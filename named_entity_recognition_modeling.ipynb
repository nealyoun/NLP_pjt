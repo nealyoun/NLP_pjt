{
 "cells": [
  {
   "cell_type": "markdown",
   "id": "7df3418d",
   "metadata": {
    "id": "7df3418d"
   },
   "source": [
    "# Named Entity Recognition Modeling with Bidirectional LSTM"
   ]
  },
  {
   "cell_type": "markdown",
   "id": "9a1225ca",
   "metadata": {
    "id": "9a1225ca"
   },
   "source": [
    "## Import Packages"
   ]
  },
  {
   "cell_type": "code",
   "execution_count": 19,
   "id": "7c450e9c",
   "metadata": {
    "executionInfo": {
     "elapsed": 3262,
     "status": "ok",
     "timestamp": 1646736878702,
     "user": {
      "displayName": "TAEHO KIM",
      "photoUrl": "https://lh3.googleusercontent.com/a-/AOh14Ghz_Xel4C2SbmcShcZorCWy-Fs5ND0rJDinxGab=s64",
      "userId": "15945301321543140270"
     },
     "user_tz": -540
    },
    "id": "7c450e9c"
   },
   "outputs": [],
   "source": [
    "import FinanceDataReader as fdr\n",
    "import pandas as pd\n",
    "import numpy as np\n",
    "import matplotlib.pyplot as plt\n",
    "%matplotlib inline\n",
    "from tqdm import tqdm\n",
    "import pickle\n",
    "\n",
    "from sklearn.preprocessing import LabelEncoder\n",
    "from tensorflow.keras.preprocessing.text import Tokenizer\n",
    "from tensorflow.keras.utils import to_categorical\n",
    "from tensorflow.keras.preprocessing.sequence import pad_sequences\n",
    "from sklearn.model_selection import train_test_split"
   ]
  },
  {
   "cell_type": "markdown",
   "id": "099a0301",
   "metadata": {
    "id": "099a0301"
   },
   "source": [
    "## 개체명 인식 데이터 로드"
   ]
  },
  {
   "cell_type": "code",
   "execution_count": 4,
   "id": "ZKwX4-l_P5qs",
   "metadata": {
    "colab": {
     "base_uri": "https://localhost:8080/"
    },
    "executionInfo": {
     "elapsed": 292,
     "status": "ok",
     "timestamp": 1646738253634,
     "user": {
      "displayName": "TAEHO KIM",
      "photoUrl": "https://lh3.googleusercontent.com/a-/AOh14Ghz_Xel4C2SbmcShcZorCWy-Fs5ND0rJDinxGab=s64",
      "userId": "15945301321543140270"
     },
     "user_tz": -540
    },
    "id": "ZKwX4-l_P5qs",
    "outputId": "8f0765bb-b9ff-4fed-d5e6-8cf3d9bc0840"
   },
   "outputs": [
    {
     "data": {
      "text/html": [
       "<div>\n",
       "<style scoped>\n",
       "    .dataframe tbody tr th:only-of-type {\n",
       "        vertical-align: middle;\n",
       "    }\n",
       "\n",
       "    .dataframe tbody tr th {\n",
       "        vertical-align: top;\n",
       "    }\n",
       "\n",
       "    .dataframe thead th {\n",
       "        text-align: right;\n",
       "    }\n",
       "</style>\n",
       "<table border=\"1\" class=\"dataframe\">\n",
       "  <thead>\n",
       "    <tr style=\"text-align: right;\">\n",
       "      <th></th>\n",
       "      <th>question</th>\n",
       "      <th>intent</th>\n",
       "      <th>tokenized_sample</th>\n",
       "      <th>ner_label</th>\n",
       "    </tr>\n",
       "  </thead>\n",
       "  <tbody>\n",
       "    <tr>\n",
       "      <th>0</th>\n",
       "      <td>AJ네트웍스의 유사 종목</td>\n",
       "      <td>유사기업</td>\n",
       "      <td>[AJ네트웍스, 의, 유사, 종목]</td>\n",
       "      <td>[B-STK, O, O, O]</td>\n",
       "    </tr>\n",
       "    <tr>\n",
       "      <th>1</th>\n",
       "      <td>AJ네트웍스의 유사 종목 보여줘</td>\n",
       "      <td>유사기업</td>\n",
       "      <td>[AJ네트웍스, 의, 유사, 종목, 보여줘]</td>\n",
       "      <td>[B-STK, O, O, O, O]</td>\n",
       "    </tr>\n",
       "    <tr>\n",
       "      <th>2</th>\n",
       "      <td>AJ네트웍스의 유사 종목 알려줘</td>\n",
       "      <td>유사기업</td>\n",
       "      <td>[AJ네트웍스, 의, 유사, 종목, 알려줘]</td>\n",
       "      <td>[B-STK, O, O, O, O]</td>\n",
       "    </tr>\n",
       "    <tr>\n",
       "      <th>3</th>\n",
       "      <td>AJ네트웍스의 유사 종목 열람</td>\n",
       "      <td>유사기업</td>\n",
       "      <td>[AJ네트웍스, 의, 유사, 종목, 열람]</td>\n",
       "      <td>[B-STK, O, O, O, O]</td>\n",
       "    </tr>\n",
       "    <tr>\n",
       "      <th>4</th>\n",
       "      <td>AJ네트웍스와 유사 종목은 뭐가 있어?</td>\n",
       "      <td>유사기업</td>\n",
       "      <td>[AJ네트웍스, 와, 유사, 종목, 은, 뭐, 가, 있, 어, ?]</td>\n",
       "      <td>[B-STK, O, O, O, O, O, O, O, O, O]</td>\n",
       "    </tr>\n",
       "    <tr>\n",
       "      <th>...</th>\n",
       "      <td>...</td>\n",
       "      <td>...</td>\n",
       "      <td>...</td>\n",
       "      <td>...</td>\n",
       "    </tr>\n",
       "    <tr>\n",
       "      <th>131700</th>\n",
       "      <td>힘스 가격 추이 띄워</td>\n",
       "      <td>가격</td>\n",
       "      <td>[힘스, 가격, 추이, 띄워]</td>\n",
       "      <td>[B-STK, B-PRI, I-PRI, O]</td>\n",
       "    </tr>\n",
       "    <tr>\n",
       "      <th>131701</th>\n",
       "      <td>힘스 가격 추이 어때?</td>\n",
       "      <td>가격</td>\n",
       "      <td>[힘스, 가격, 추이, 어때, ?]</td>\n",
       "      <td>[B-STK, B-PRI, I-PRI, O, O]</td>\n",
       "    </tr>\n",
       "    <tr>\n",
       "      <th>131702</th>\n",
       "      <td>힘스 가격 추이 어떻게 돼?</td>\n",
       "      <td>가격</td>\n",
       "      <td>[힘스, 가격, 추이, 어떻게, 돼, ?]</td>\n",
       "      <td>[B-STK, B-PRI, I-PRI, O, O, O]</td>\n",
       "    </tr>\n",
       "    <tr>\n",
       "      <th>131703</th>\n",
       "      <td>힘스 가격 추이 궁금해</td>\n",
       "      <td>가격</td>\n",
       "      <td>[힘스, 가격, 추이, 궁금, 해]</td>\n",
       "      <td>[B-STK, B-PRI, I-PRI, O, O]</td>\n",
       "    </tr>\n",
       "    <tr>\n",
       "      <th>131704</th>\n",
       "      <td>힘스 가격 추이 보고싶어</td>\n",
       "      <td>가격</td>\n",
       "      <td>[힘스, 가격, 추이, 보, 고, 싶, 어]</td>\n",
       "      <td>[B-STK, B-PRI, I-PRI, O, O, O, O]</td>\n",
       "    </tr>\n",
       "  </tbody>\n",
       "</table>\n",
       "<p>271721 rows × 4 columns</p>\n",
       "</div>"
      ],
      "text/plain": [
       "                     question intent                       tokenized_sample  \\\n",
       "0               AJ네트웍스의 유사 종목   유사기업                    [AJ네트웍스, 의, 유사, 종목]   \n",
       "1           AJ네트웍스의 유사 종목 보여줘   유사기업               [AJ네트웍스, 의, 유사, 종목, 보여줘]   \n",
       "2           AJ네트웍스의 유사 종목 알려줘   유사기업               [AJ네트웍스, 의, 유사, 종목, 알려줘]   \n",
       "3            AJ네트웍스의 유사 종목 열람   유사기업                [AJ네트웍스, 의, 유사, 종목, 열람]   \n",
       "4       AJ네트웍스와 유사 종목은 뭐가 있어?   유사기업  [AJ네트웍스, 와, 유사, 종목, 은, 뭐, 가, 있, 어, ?]   \n",
       "...                       ...    ...                                    ...   \n",
       "131700            힘스 가격 추이 띄워     가격                       [힘스, 가격, 추이, 띄워]   \n",
       "131701           힘스 가격 추이 어때?     가격                    [힘스, 가격, 추이, 어때, ?]   \n",
       "131702        힘스 가격 추이 어떻게 돼?     가격                [힘스, 가격, 추이, 어떻게, 돼, ?]   \n",
       "131703           힘스 가격 추이 궁금해     가격                    [힘스, 가격, 추이, 궁금, 해]   \n",
       "131704          힘스 가격 추이 보고싶어     가격               [힘스, 가격, 추이, 보, 고, 싶, 어]   \n",
       "\n",
       "                                 ner_label  \n",
       "0                         [B-STK, O, O, O]  \n",
       "1                      [B-STK, O, O, O, O]  \n",
       "2                      [B-STK, O, O, O, O]  \n",
       "3                      [B-STK, O, O, O, O]  \n",
       "4       [B-STK, O, O, O, O, O, O, O, O, O]  \n",
       "...                                    ...  \n",
       "131700            [B-STK, B-PRI, I-PRI, O]  \n",
       "131701         [B-STK, B-PRI, I-PRI, O, O]  \n",
       "131702      [B-STK, B-PRI, I-PRI, O, O, O]  \n",
       "131703         [B-STK, B-PRI, I-PRI, O, O]  \n",
       "131704   [B-STK, B-PRI, I-PRI, O, O, O, O]  \n",
       "\n",
       "[271721 rows x 4 columns]"
      ]
     },
     "execution_count": 4,
     "metadata": {},
     "output_type": "execute_result"
    }
   ],
   "source": [
    "ner_df = pd.read_pickle('./data/ner_df.pickle')\n",
    "ner_df"
   ]
  },
  {
   "cell_type": "markdown",
   "id": "633c2db3",
   "metadata": {
    "id": "633c2db3"
   },
   "source": [
    "### ner_df 데이터 구조 시각화"
   ]
  },
  {
   "cell_type": "code",
   "execution_count": 5,
   "id": "0b495e74",
   "metadata": {
    "id": "0b495e74"
   },
   "outputs": [],
   "source": [
    "ner_sentences = ner_df['tokenized_sample'].to_list()\n",
    "ner_tags = ner_df['ner_label'].to_list()"
   ]
  },
  {
   "cell_type": "code",
   "execution_count": 6,
   "id": "6a516853",
   "metadata": {
    "id": "6a516853",
    "outputId": "aca51746-5105-45e3-ed64-2d6863e0b636"
   },
   "outputs": [
    {
     "name": "stdout",
     "output_type": "stream",
     "text": [
      "샘플의 최대 길이 : 13\n",
      "샘플의 평균 길이 : 5.093379\n"
     ]
    },
    {
     "data": {
      "image/png": "[encoded data removed]",
      "text/plain": [
       "<Figure size 432x288 with 1 Axes>"
      ]
     },
     "metadata": {
      "needs_background": "light"
     },
     "output_type": "display_data"
    }
   ],
   "source": [
    "print('샘플의 최대 길이 : %d' % max(len(l) for l in ner_sentences))\n",
    "print('샘플의 평균 길이 : %f' % (sum(map(len, ner_sentences))/len(ner_sentences)))\n",
    "plt.hist([len(s) for s in ner_sentences], bins=50)\n",
    "plt.xlabel('length of samples')\n",
    "plt.ylabel('number of samples')\n",
    "plt.show()"
   ]
  },
  {
   "cell_type": "markdown",
   "id": "686d5a19",
   "metadata": {
    "id": "686d5a19"
   },
   "source": [
    "### 개체명 인식 데이터 Tokenizing"
   ]
  },
  {
   "cell_type": "code",
   "execution_count": 7,
   "id": "0e0af165",
   "metadata": {
    "id": "0e0af165"
   },
   "outputs": [],
   "source": [
    "# 모든 단어를 사용하지만, Index 1에는 'Out of Vocabulary' 할당\n",
    "src_tokenizer = Tokenizer(oov_token = 'OOV')\n",
    "src_tokenizer.fit_on_texts(ner_sentences)\n",
    "# Tagging 정보들은 내부적으로 대문자를 유지한채로 저장\n",
    "tar_tokenizer = Tokenizer(lower = False)\n",
    "tar_tokenizer.fit_on_texts(ner_tags)"
   ]
  },
  {
   "cell_type": "code",
   "execution_count": 8,
   "id": "d63f803e",
   "metadata": {
    "id": "d63f803e",
    "outputId": "5c2d2646-d41d-4d73-da02-ba5d6327a6d0"
   },
   "outputs": [
    {
     "name": "stdout",
     "output_type": "stream",
     "text": [
      "단어 집합의 크기: 3227\n",
      "개체명 태깅 정보 집합의 크기: 8\n"
     ]
    }
   ],
   "source": [
    "vocab_size = len(src_tokenizer.word_index) + 1\n",
    "tag_size = len(tar_tokenizer.word_index) + 1\n",
    "print('단어 집합의 크기: {}'.format(vocab_size))\n",
    "print('개체명 태깅 정보 집합의 크기: {}'.format(tag_size))"
   ]
  },
  {
   "cell_type": "code",
   "execution_count": 9,
   "id": "e23f2c69",
   "metadata": {
    "id": "e23f2c69",
    "outputId": "d078c747-02f8-4e7c-a0b4-e63a0abb5d00"
   },
   "outputs": [
    {
     "name": "stdout",
     "output_type": "stream",
     "text": [
      "단어 OOV의 인덱스: 1\n"
     ]
    }
   ],
   "source": [
    "print('단어 OOV의 인덱스: {}'.format(src_tokenizer.word_index['OOV']))"
   ]
  },
  {
   "cell_type": "code",
   "execution_count": 10,
   "id": "10714cc0",
   "metadata": {
    "id": "10714cc0"
   },
   "outputs": [],
   "source": [
    "X_data = src_tokenizer.texts_to_sequences(ner_sentences)\n",
    "y_data = tar_tokenizer.texts_to_sequences(ner_tags)"
   ]
  },
  {
   "cell_type": "code",
   "execution_count": 11,
   "id": "129d45f1",
   "metadata": {
    "id": "129d45f1",
    "outputId": "29b7e5e8-59c7-4032-b665-8e8c06d5226c"
   },
   "outputs": [
    {
     "name": "stdout",
     "output_type": "stream",
     "text": [
      "[88, 35, 28, 26] [2, 1, 1, 1]\n"
     ]
    }
   ],
   "source": [
    "print(X_data[0], y_data[0])"
   ]
  },
  {
   "cell_type": "code",
   "execution_count": 12,
   "id": "b4159561",
   "metadata": {
    "id": "b4159561",
    "outputId": "e0086a15-9c7e-4053-a060-2cb51d8326a7",
    "scrolled": true
   },
   "outputs": [
    {
     "data": {
      "text/plain": [
       "{1: 'O',\n",
       " 2: 'B-STK',\n",
       " 3: 'B-PRI',\n",
       " 4: 'I-PRI',\n",
       " 5: 'B-KEY',\n",
       " 6: 'I-KEY',\n",
       " 7: 'I-STK',\n",
       " 0: 'PAD'}"
      ]
     },
     "execution_count": 12,
     "metadata": {},
     "output_type": "execute_result"
    }
   ],
   "source": [
    "word_to_index = src_tokenizer.word_index\n",
    "index_to_word = src_tokenizer.index_word\n",
    "ner_to_index = tar_tokenizer.word_index\n",
    "index_to_ner = tar_tokenizer.index_word\n",
    "index_to_ner[0] = 'PAD'\n",
    "index_to_ner"
   ]
  },
  {
   "cell_type": "code",
   "execution_count": 13,
   "id": "897a10cf",
   "metadata": {
    "id": "897a10cf",
    "outputId": "1962360a-be38-4f31-9985-3ae3bc4daae2"
   },
   "outputs": [
    {
     "name": "stdout",
     "output_type": "stream",
     "text": [
      "기존의 문장: ['AJ네트웍스', '의', '유사', '종목']\n",
      "디코딩 문장: ['aj네트웍스', '의', '유사', '종목']\n"
     ]
    }
   ],
   "source": [
    "decoded = []\n",
    "for index in X_data[0]:\n",
    "    decoded.append(index_to_word[index])\n",
    "    \n",
    "print('기존의 문장: {}'.format(ner_sentences[0]))\n",
    "print('디코딩 문장: {}'.format(decoded))"
   ]
  },
  {
   "cell_type": "code",
   "execution_count": 14,
   "id": "96ef86c3",
   "metadata": {
    "id": "96ef86c3"
   },
   "outputs": [],
   "source": [
    "max_len = 12\n",
    "X_data = pad_sequences(X_data, padding = 'post', maxlen = max_len)\n",
    "y_data = pad_sequences(y_data, padding = 'post', maxlen = max_len)"
   ]
  },
  {
   "cell_type": "markdown",
   "id": "86651684-d504-48e7-bd3f-0272628cc247",
   "metadata": {},
   "source": [
    "### train, test set으로 데이터 분리"
   ]
  },
  {
   "cell_type": "code",
   "execution_count": 15,
   "id": "d110f4a6",
   "metadata": {
    "id": "d110f4a6"
   },
   "outputs": [],
   "source": [
    "X_train, X_test, y_train, y_test = train_test_split(X_data, y_data, test_size = .2, random_state = 42)"
   ]
  },
  {
   "cell_type": "code",
   "execution_count": 16,
   "id": "3f213611",
   "metadata": {
    "id": "3f213611"
   },
   "outputs": [],
   "source": [
    "y_train = to_categorical(y_train, num_classes = tag_size)\n",
    "y_test = to_categorical(y_test, num_classes = tag_size)"
   ]
  },
  {
   "cell_type": "code",
   "execution_count": 17,
   "id": "3554e265",
   "metadata": {
    "id": "3554e265",
    "outputId": "37e35960-2683-45d0-9a7c-c1d229f3cae6"
   },
   "outputs": [
    {
     "name": "stdout",
     "output_type": "stream",
     "text": [
      "훈련 샘플 문장의 크기 : (217376, 12)\n",
      "훈련 샘플 레이블의 크기 : (217376, 12, 8)\n",
      "테스트 샘플 문장의 크기 : (54345, 12)\n",
      "테스트 샘플 레이블의 크기 : (54345, 12, 8)\n"
     ]
    }
   ],
   "source": [
    "print('훈련 샘플 문장의 크기 : {}'.format(X_train.shape))\n",
    "print('훈련 샘플 레이블의 크기 : {}'.format(y_train.shape))\n",
    "print('테스트 샘플 문장의 크기 : {}'.format(X_test.shape))\n",
    "print('테스트 샘플 레이블의 크기 : {}'.format(y_test.shape))"
   ]
  },
  {
   "cell_type": "markdown",
   "id": "e4c6db7f-64c4-4eea-97b5-e9f1686b8f48",
   "metadata": {},
   "source": [
    "## Tokenizer 저장"
   ]
  },
  {
   "cell_type": "code",
   "execution_count": 1,
   "id": "8e14d874-4bcc-4bab-b2bf-35181aeb4661",
   "metadata": {},
   "outputs": [
    {
     "name": "stdout",
     "output_type": "stream",
     "text": [
      "LICENSE                                 \u001b[1m\u001b[36mscrapping\u001b[m\u001b[m\n",
      "\u001b[1m\u001b[36mdata\u001b[m\u001b[m                                    \u001b[1m\u001b[36mtokenizer\u001b[m\u001b[m\n",
      "named_entity_recognition_modeling.ipynb training_data_generate.ipynb\n"
     ]
    }
   ],
   "source": [
    "# %mkdir ./tokenizer\n",
    "# %ls"
   ]
  },
  {
   "cell_type": "code",
   "execution_count": 20,
   "id": "bc2093d2",
   "metadata": {
    "id": "bc2093d2"
   },
   "outputs": [],
   "source": [
    "with open('./tokenizer/ner_src_tokenizer.pickle', 'wb') as handle:\n",
    "    pickle.dump(src_tokenizer, handle, protocol=pickle.HIGHEST_PROTOCOL)"
   ]
  },
  {
   "cell_type": "code",
   "execution_count": 21,
   "id": "23680f0b",
   "metadata": {
    "id": "23680f0b"
   },
   "outputs": [],
   "source": [
    "with open('./tokenizer/ner_tar_tokenizer.pickle', 'wb') as handle:\n",
    "    pickle.dump(tar_tokenizer, handle, protocol=pickle.HIGHEST_PROTOCOL)"
   ]
  },
  {
   "cell_type": "markdown",
   "id": "c15ef4c7-1cf7-4d25-8f24-c85fe9981efb",
   "metadata": {},
   "source": [
    "## Modeling"
   ]
  },
  {
   "cell_type": "code",
   "execution_count": 22,
   "id": "222e4cd7-56ec-49cc-8a2b-40057058a52d",
   "metadata": {},
   "outputs": [
    {
     "data": {
      "text/plain": [
       "[PhysicalDevice(name='/physical_device:GPU:0', device_type='GPU')]"
      ]
     },
     "execution_count": 22,
     "metadata": {},
     "output_type": "execute_result"
    }
   ],
   "source": [
    "# # M1 mac GPU setting code\n",
    "# import tensorflow as tf\n",
    "# tf.config.list_physical_devices('GPU')"
   ]
  },
  {
   "cell_type": "code",
   "execution_count": 23,
   "id": "231d8c7d-b98b-4fdc-ba8b-ce23925e15ef",
   "metadata": {},
   "outputs": [],
   "source": [
    "# gpus = tf.config.experimental.list_physical_devices('GPU')\n",
    "\n",
    "# if gpus:\n",
    "#     # 텐서플로가 첫 번째 GPU만 사용하도록 제한\n",
    "#     try:\n",
    "#         tf.config.experimental.set_visible_devices(gpus[0], 'GPU')\n",
    "#     except RuntimeError as e:\n",
    "#     # 프로그램 시작시에 접근 가능한 장치가 설정되어야만 합니다\n",
    "#         print(e)"
   ]
  },
  {
   "cell_type": "code",
   "execution_count": 24,
   "id": "e084633d-5e9d-4ea8-ba92-314f3e091983",
   "metadata": {
    "id": "e084633d-5e9d-4ea8-ba92-314f3e091983"
   },
   "outputs": [],
   "source": [
    "from tensorflow.keras.models import Sequential\n",
    "from tensorflow.keras.layers import Dense, LSTM, InputLayer, Bidirectional, TimeDistributed, Embedding\n",
    "from tensorflow.keras.optimizers import Adam"
   ]
  },
  {
   "cell_type": "code",
   "execution_count": 25,
   "id": "915f225d-2bc7-477d-9917-0dfd4f41dc59",
   "metadata": {
    "id": "915f225d-2bc7-477d-9917-0dfd4f41dc59",
    "outputId": "eae06d2c-e840-4144-f981-c80a05ba7e89"
   },
   "outputs": [
    {
     "name": "stdout",
     "output_type": "stream",
     "text": [
      "Metal device set to: Apple M1\n"
     ]
    },
    {
     "name": "stderr",
     "output_type": "stream",
     "text": [
      "2022-03-16 15:36:29.088920: I tensorflow/core/common_runtime/pluggable_device/pluggable_device_factory.cc:305] Could not identify NUMA node of platform GPU ID 0, defaulting to 0. Your kernel may not have been built with NUMA support.\n",
      "2022-03-16 15:36:29.089302: I tensorflow/core/common_runtime/pluggable_device/pluggable_device_factory.cc:271] Created TensorFlow device (/job:localhost/replica:0/task:0/device:GPU:0 with 0 MB memory) -> physical PluggableDevice (device: 0, name: METAL, pci bus id: <undefined>)\n",
      "2022-03-16 15:36:30.160439: W tensorflow/core/platform/profile_utils/cpu_utils.cc:128] Failed to get CPU frequency: 0 Hz\n"
     ]
    },
    {
     "name": "stdout",
     "output_type": "stream",
     "text": [
      "Epoch 1/6\n"
     ]
    },
    {
     "name": "stderr",
     "output_type": "stream",
     "text": [
      "2022-03-16 15:36:31.648513: I tensorflow/core/grappler/optimizers/custom_graph_optimizer_registry.cc:112] Plugin optimizer for device_type GPU is enabled.\n",
      "2022-03-16 15:36:32.353060: I tensorflow/core/grappler/optimizers/custom_graph_optimizer_registry.cc:112] Plugin optimizer for device_type GPU is enabled.\n",
      "2022-03-16 15:36:32.514565: I tensorflow/core/grappler/optimizers/custom_graph_optimizer_registry.cc:112] Plugin optimizer for device_type GPU is enabled.\n",
      "2022-03-16 15:36:35.292314: I tensorflow/core/grappler/optimizers/custom_graph_optimizer_registry.cc:112] Plugin optimizer for device_type GPU is enabled.\n",
      "2022-03-16 15:36:35.404175: I tensorflow/core/grappler/optimizers/custom_graph_optimizer_registry.cc:112] Plugin optimizer for device_type GPU is enabled.\n"
     ]
    },
    {
     "name": "stdout",
     "output_type": "stream",
     "text": [
      "1529/1529 [==============================] - ETA: 0s - loss: 0.0192 - accuracy: 0.9881"
     ]
    },
    {
     "name": "stderr",
     "output_type": "stream",
     "text": [
      "2022-03-16 15:40:51.144194: I tensorflow/core/grappler/optimizers/custom_graph_optimizer_registry.cc:112] Plugin optimizer for device_type GPU is enabled.\n",
      "2022-03-16 15:40:51.447474: I tensorflow/core/grappler/optimizers/custom_graph_optimizer_registry.cc:112] Plugin optimizer for device_type GPU is enabled.\n",
      "2022-03-16 15:40:51.494226: I tensorflow/core/grappler/optimizers/custom_graph_optimizer_registry.cc:112] Plugin optimizer for device_type GPU is enabled.\n"
     ]
    },
    {
     "name": "stdout",
     "output_type": "stream",
     "text": [
      "1529/1529 [==============================] - 274s 176ms/step - loss: 0.0192 - accuracy: 0.9881 - val_loss: 3.5792e-04 - val_accuracy: 0.9999\n",
      "Epoch 2/6\n",
      "1529/1529 [==============================] - 268s 175ms/step - loss: 1.8760e-04 - accuracy: 0.9999 - val_loss: 2.5692e-05 - val_accuracy: 1.0000\n",
      "Epoch 3/6\n",
      "1529/1529 [==============================] - 277s 181ms/step - loss: 3.4785e-05 - accuracy: 1.0000 - val_loss: 1.4483e-05 - val_accuracy: 1.0000\n",
      "Epoch 4/6\n",
      "1529/1529 [==============================] - 272s 178ms/step - loss: 4.3759e-05 - accuracy: 1.0000 - val_loss: 3.5803e-06 - val_accuracy: 1.0000\n",
      "Epoch 5/6\n",
      "1529/1529 [==============================] - 272s 178ms/step - loss: 4.3363e-06 - accuracy: 1.0000 - val_loss: 1.7660e-06 - val_accuracy: 1.0000\n",
      "Epoch 6/6\n",
      "1529/1529 [==============================] - 268s 175ms/step - loss: 2.6884e-05 - accuracy: 1.0000 - val_loss: 1.7506e-06 - val_accuracy: 1.0000\n"
     ]
    }
   ],
   "source": [
    "embedding_dim = 128\n",
    "hidden_units = 256\n",
    "\n",
    "model = Sequential()\n",
    "model.add(Embedding(vocab_size, embedding_dim, mask_zero = True))\n",
    "model.add(Bidirectional(LSTM(hidden_units, return_sequences = True)))\n",
    "model.add(TimeDistributed(Dense(tag_size, activation = ('softmax'))))\n",
    "model.compile(loss = 'categorical_crossentropy', optimizer = Adam(0.001), metrics = ['accuracy'])\n",
    "\n",
    "history = model.fit(X_train, y_train, batch_size = 128, epochs = 6, validation_split = 0.1)"
   ]
  },
  {
   "cell_type": "code",
   "execution_count": 41,
   "id": "b29bde4b",
   "metadata": {
    "id": "b29bde4b",
    "scrolled": true
   },
   "outputs": [
    {
     "ename": "ModuleNotFoundError",
     "evalue": "No module named 'seqeval'",
     "output_type": "error",
     "traceback": [
      "\u001b[0;31m---------------------------------------------------------------------------\u001b[0m",
      "\u001b[0;31mModuleNotFoundError\u001b[0m                       Traceback (most recent call last)",
      "Input \u001b[0;32mIn [41]\u001b[0m, in \u001b[0;36m<cell line: 2>\u001b[0;34m()\u001b[0m\n\u001b[1;32m      1\u001b[0m \u001b[38;5;28;01mfrom\u001b[39;00m \u001b[38;5;21;01mkeras\u001b[39;00m\u001b[38;5;21;01m.\u001b[39;00m\u001b[38;5;21;01mcallbacks\u001b[39;00m \u001b[38;5;28;01mimport\u001b[39;00m Callback\n\u001b[0;32m----> 2\u001b[0m \u001b[38;5;28;01mfrom\u001b[39;00m \u001b[38;5;21;01mseqeval\u001b[39;00m\u001b[38;5;21;01m.\u001b[39;00m\u001b[38;5;21;01mmetrics\u001b[39;00m \u001b[38;5;28;01mimport\u001b[39;00m f1_score, classification_report\n",
      "\u001b[0;31mModuleNotFoundError\u001b[0m: No module named 'seqeval'"
     ]
    }
   ],
   "source": [
    "from keras.callbacks import Callback\n",
    "from seqeval.metrics import f1_score, classification_report"
   ]
  },
  {
   "cell_type": "code",
   "execution_count": null,
   "id": "65632576",
   "metadata": {
    "id": "65632576"
   },
   "outputs": [],
   "source": [
    "class F1score(Callback):\n",
    "    def __init__(self, value = 0.0, use_char=True):\n",
    "        super(F1score, self).__init__()\n",
    "        self.value = value\n",
    "        self.use_char = use_char\n",
    "\n",
    "    def sequences_to_tags(self, sequences): # 예측값을 index_to_ner를 사용하여 태깅 정보로 변경하는 함수.\n",
    "        result = []\n",
    "        for sequence in sequences: # 전체 시퀀스로부터 시퀀스를 하나씩 꺼낸다.\n",
    "            tag = []\n",
    "            for pred in sequence: # 시퀀스로부터 예측값을 하나씩 꺼낸다.\n",
    "                pred_index = np.argmax(pred) # 예를 들어 [0, 0, 1, 0 ,0]라면 1의 인덱스인 2를 리턴한다.\n",
    "                tag.append(index_to_ner[pred_index].replace(\"PAD\", \"O\")) # 'PAD'는 'O'로 변경\n",
    "            result.append(tag)\n",
    "        return result\n",
    "\n",
    "    # 에포크가 끝날 때마다 실행되는 함수\n",
    "    def on_epoch_end(self, epoch, logs={}):\n",
    "\n",
    "      # char Embedding을 사용하는 경우\n",
    "        if self.use_char:\n",
    "            X_test = self.validation_data[0]\n",
    "            X_char_test = self.validation_data[1]\n",
    "            y_test = self.validation_data[2]\n",
    "            y_predicted = self.model.predict([X_test, X_char_test])\n",
    "\n",
    "        else:\n",
    "            X_test = self.validation_data[0]\n",
    "            y_test = self.validation_data[1]\n",
    "            y_predicted = self.model.predict([X_test])\n",
    "\n",
    "        pred_tags = self.sequences_to_tags(y_predicted)\n",
    "        test_tags = self.sequences_to_tags(y_test)\n",
    "\n",
    "        score = f1_score(pred_tags, test_tags)\n",
    "        print(' - f1: {:04.2f}'.format(score * 100))\n",
    "        print(classification_report(test_tags, pred_tags))\n",
    "\n",
    "      # F1-score가 지금까지 중 가장 높은 경우\n",
    "        if score > self.value:\n",
    "            print('f1_score improved from %f to %f, saving model to best_model.h5'%(self.value, score))\n",
    "            self.model.save('ner_crf_best_model.h5')\n",
    "            self.value = score\n",
    "        else:\n",
    "            print('f1_score did not improve from %f'%(self.value))"
   ]
  }
 ],
 "metadata": {
  "colab": {
   "name": "stock_named_entity_recognition_modeling.ipynb",
   "provenance": []
  },
  "kernelspec": {
   "display_name": "Python 3 (ipykernel)",
   "language": "python",
   "name": "python3"
  },
  "language_info": {
   "codemirror_mode": {
    "name": "ipython",
    "version": 3
   },
   "file_extension": ".py",
   "mimetype": "text/x-python",
   "name": "python",
   "nbconvert_exporter": "python",
   "pygments_lexer": "ipython3",
   "version": "3.8.12"
  },
  "toc-autonumbering": false,
  "toc-showmarkdowntxt": false,
  "toc-showtags": false
 },
 "nbformat": 4,
 "nbformat_minor": 5
}
