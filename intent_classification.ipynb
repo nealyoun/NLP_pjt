{
 "cells": [
  {
   "cell_type": "code",
   "execution_count": 1,
   "id": "e9c73562-46d6-4c92-8b50-79e9e57a7e92",
   "metadata": {},
   "outputs": [],
   "source": [
    "import pandas as pd\n",
    "import numpy as np\n",
    "import matplotlib.pyplot as plt\n",
    "import tensorflow as tf\n",
    "import seaborn as sns\n",
    "\n",
    "from ekonlpy.tag import Mecab\n",
    "from sklearn import preprocessing\n",
    "from sklearn.model_selection import train_test_split\n",
    "from tensorflow.keras.utils import to_categorical\n",
    "from tensorflow.keras.preprocessing.text import Tokenizer\n",
    "from tensorflow.keras.preprocessing.sequence import pad_sequences"
   ]
  },
  {
   "cell_type": "code",
   "execution_count": 3,
   "id": "155b3e54-707e-45de-9505-713b678fc5aa",
   "metadata": {},
   "outputs": [],
   "source": [
    "intent_df = pd.read_csv(\"./data/intent_df.csv\")"
   ]
  },
  {
   "cell_type": "code",
   "execution_count": 4,
   "id": "0cb84f61-1576-47ec-b0f7-bc5ea54e1ae5",
   "metadata": {},
   "outputs": [
    {
     "data": {
      "text/html": [
       "<div>\n",
       "<style scoped>\n",
       "    .dataframe tbody tr th:only-of-type {\n",
       "        vertical-align: middle;\n",
       "    }\n",
       "\n",
       "    .dataframe tbody tr th {\n",
       "        vertical-align: top;\n",
       "    }\n",
       "\n",
       "    .dataframe thead th {\n",
       "        text-align: right;\n",
       "    }\n",
       "</style>\n",
       "<table border=\"1\" class=\"dataframe\">\n",
       "  <thead>\n",
       "    <tr style=\"text-align: right;\">\n",
       "      <th></th>\n",
       "      <th>question</th>\n",
       "      <th>intent</th>\n",
       "    </tr>\n",
       "  </thead>\n",
       "  <tbody>\n",
       "    <tr>\n",
       "      <th>0</th>\n",
       "      <td>디딤 차트</td>\n",
       "      <td>가격</td>\n",
       "    </tr>\n",
       "    <tr>\n",
       "      <th>1</th>\n",
       "      <td>포시에스 그래프 보여줘</td>\n",
       "      <td>가격</td>\n",
       "    </tr>\n",
       "    <tr>\n",
       "      <th>2</th>\n",
       "      <td>메카로 사업 개요가 궁금해</td>\n",
       "      <td>사업개요</td>\n",
       "    </tr>\n",
       "    <tr>\n",
       "      <th>3</th>\n",
       "      <td>조광페인트 종가 보여줘</td>\n",
       "      <td>가격</td>\n",
       "    </tr>\n",
       "    <tr>\n",
       "      <th>4</th>\n",
       "      <td>음식료품랑 연관된 주식 모 있어?</td>\n",
       "      <td>키워드</td>\n",
       "    </tr>\n",
       "  </tbody>\n",
       "</table>\n",
       "</div>"
      ],
      "text/plain": [
       "             question intent\n",
       "0               디딤 차트     가격\n",
       "1        포시에스 그래프 보여줘     가격\n",
       "2      메카로 사업 개요가 궁금해   사업개요\n",
       "3        조광페인트 종가 보여줘     가격\n",
       "4  음식료품랑 연관된 주식 모 있어?    키워드"
      ]
     },
     "execution_count": 4,
     "metadata": {},
     "output_type": "execute_result"
    }
   ],
   "source": [
    "intent_df.head()"
   ]
  },
  {
   "cell_type": "markdown",
   "id": "d0a79d62-0755-43bc-a71b-f1d4da036e5d",
   "metadata": {},
   "source": [
    "## 레이블 전처리 및 padding"
   ]
  },
  {
   "cell_type": "code",
   "execution_count": 5,
   "id": "571a6c5e-4941-4a95-84d5-b2e85c6e5d69",
   "metadata": {},
   "outputs": [],
   "source": [
    "idx_encoding = preprocessing.LabelEncoder()\n",
    "label_data = idx_encoding.fit_transform(intent_df[\"intent\"].to_list())"
   ]
  },
  {
   "cell_type": "code",
   "execution_count": 6,
   "id": "082e5e65-16a9-4c63-9f7d-d97016a21d5b",
   "metadata": {},
   "outputs": [
    {
     "data": {
      "text/plain": [
       "array([0, 0, 1, ..., 2, 2, 1])"
      ]
     },
     "execution_count": 6,
     "metadata": {},
     "output_type": "execute_result"
    }
   ],
   "source": [
    "label_data"
   ]
  },
  {
   "cell_type": "code",
   "execution_count": 7,
   "id": "a7b0b734-a63d-490f-8ada-89d72c3c5c72",
   "metadata": {},
   "outputs": [],
   "source": [
    "label_idx = dict(zip(list(idx_encoding.transform(list(idx_encoding.classes_)) ), idx_encoding.classes_))"
   ]
  },
  {
   "cell_type": "code",
   "execution_count": 8,
   "id": "150dcf3e-aa19-4bf0-af2a-753b9acebaf3",
   "metadata": {},
   "outputs": [],
   "source": [
    "mecab = Mecab()\n",
    "data_X = []\n",
    "for sentence in intent_df[\"question\"]:\n",
    "    temp_X = mecab.morphs(sentence)\n",
    "    data_X.append(temp_X)"
   ]
  },
  {
   "cell_type": "code",
   "execution_count": 9,
   "id": "2049323a-da91-4bd4-96ae-5d65e31dd7dc",
   "metadata": {},
   "outputs": [
    {
     "data": {
      "text/plain": [
       "[['디딤', '차트'],\n",
       " ['포시에스', '그래프', '보여줘'],\n",
       " ['메카로', '사업', '개요', '가', '궁금', '해'],\n",
       " ['조광페인트', '종가', '보여줘'],\n",
       " ['음식료품', '랑', '연관', '된', '주식', '모', '있', '어', '?'],\n",
       " ['동양에스텍', '시가', '얼마', '냐'],\n",
       " ['시노펙스', '가격', '이', '어떻게', '돼', '?'],\n",
       " ['엔에이치스팩19호', '사업', '개요', '볼래'],\n",
       " ['경보제약', '그래프', '띄워줘'],\n",
       " ['세보엠이씨', '와', '유사', '종목', '은', '뭐', '가', '있', '어', '?']]"
      ]
     },
     "execution_count": 9,
     "metadata": {},
     "output_type": "execute_result"
    }
   ],
   "source": [
    "data_X[:10]"
   ]
  },
  {
   "cell_type": "code",
   "execution_count": 10,
   "id": "15511974-4c71-4981-b2a9-84c4160d7ed8",
   "metadata": {},
   "outputs": [
    {
     "name": "stdout",
     "output_type": "stream",
     "text": [
      "문장의 최대 길이:  13\n",
      "문장의 평균 길이:  5.0927969424837904\n"
     ]
    },
    {
     "data": {
      "text/plain": [
       "[Text(0.5, 0, 'length of sentence')]"
      ]
     },
     "execution_count": 10,
     "metadata": {},
     "output_type": "execute_result"
    },
    {
     "data": {
      "image/png": "[encoded data removed]",
      "text/plain": [
       "<Figure size 432x288 with 1 Axes>"
      ]
     },
     "metadata": {
      "needs_background": "light"
     },
     "output_type": "display_data"
    }
   ],
   "source": [
    "print(\"문장의 최대 길이: \", max(len(sent) for sent in data_X))\n",
    "print(\"문장의 평균 길이: \", sum(map(len, data_X)) / len(data_X))\n",
    "max_len = max(len(sent) for sent in data_X)\n",
    "\n",
    "sns.histplot([len(sent) for sent in data_X], binwidth= 0.5).set(xlabel = \"length of sentence\")"
   ]
  },
  {
   "cell_type": "code",
   "execution_count": 11,
   "id": "27209562-aa12-43e6-90ef-17aee15dfef7",
   "metadata": {},
   "outputs": [
    {
     "data": {
      "text/plain": [
       "[[86, 17],\n",
       " [87, 18, 10],\n",
       " [88, 6, 7, 12, 19, 4],\n",
       " [89, 46, 10],\n",
       " [2751, 5, 41, 39, 9, 32, 24, 13, 1],\n",
       " [90, 38, 27, 53],\n",
       " [91, 14, 11, 21, 22, 1],\n",
       " [92, 6, 7, 54],\n",
       " [93, 18, 47],\n",
       " [94, 16, 28, 25, 26, 35, 12, 24, 13, 1]]"
      ]
     },
     "execution_count": 11,
     "metadata": {},
     "output_type": "execute_result"
    }
   ],
   "source": [
    "intent_tokenizer = Tokenizer()\n",
    "intent_tokenizer.fit_on_texts(data_X)\n",
    "X_data = intent_tokenizer.texts_to_sequences(data_X)\n",
    "X_data[:10]"
   ]
  },
  {
   "cell_type": "code",
   "execution_count": 12,
   "id": "6459338a-1575-4812-9f0b-b5c6ce12c920",
   "metadata": {},
   "outputs": [
    {
     "data": {
      "text/plain": [
       "array([[   0,    0,    0,    0,    0,    0,    0,    0,    0,    0,    0,\n",
       "          86,   17],\n",
       "       [   0,    0,    0,    0,    0,    0,    0,    0,    0,    0,   87,\n",
       "          18,   10],\n",
       "       [   0,    0,    0,    0,    0,    0,    0,   88,    6,    7,   12,\n",
       "          19,    4],\n",
       "       [   0,    0,    0,    0,    0,    0,    0,    0,    0,    0,   89,\n",
       "          46,   10],\n",
       "       [   0,    0,    0,    0, 2751,    5,   41,   39,    9,   32,   24,\n",
       "          13,    1],\n",
       "       [   0,    0,    0,    0,    0,    0,    0,    0,    0,   90,   38,\n",
       "          27,   53],\n",
       "       [   0,    0,    0,    0,    0,    0,    0,   91,   14,   11,   21,\n",
       "          22,    1],\n",
       "       [   0,    0,    0,    0,    0,    0,    0,    0,    0,   92,    6,\n",
       "           7,   54],\n",
       "       [   0,    0,    0,    0,    0,    0,    0,    0,    0,    0,   93,\n",
       "          18,   47],\n",
       "       [   0,    0,    0,   94,   16,   28,   25,   26,   35,   12,   24,\n",
       "          13,    1]], dtype=int32)"
      ]
     },
     "execution_count": 12,
     "metadata": {},
     "output_type": "execute_result"
    }
   ],
   "source": [
    "X_data = pad_sequences(X_data, maxlen = max_len)\n",
    "X_data[:10]"
   ]
  },
  {
   "cell_type": "markdown",
   "id": "d71ae86b-efe2-4cd4-b3ed-7afc9e8e6ec3",
   "metadata": {},
   "source": [
    "# 학습데이터, 테스트 데이터 분리"
   ]
  },
  {
   "cell_type": "code",
   "execution_count": 13,
   "id": "ab81ec2c-cf53-41fa-a8ad-9618efee391f",
   "metadata": {},
   "outputs": [],
   "source": [
    "X_train, X_test, y_train, y_test = train_test_split(X_data, label_data, test_size = 0.2, random_state = 42)"
   ]
  },
  {
   "cell_type": "code",
   "execution_count": 14,
   "id": "fca1d118-5d43-4ac4-a75a-d9b02bd2e32a",
   "metadata": {},
   "outputs": [
    {
     "data": {
      "text/plain": [
       "217274"
      ]
     },
     "execution_count": 14,
     "metadata": {},
     "output_type": "execute_result"
    }
   ],
   "source": [
    "len(X_train)"
   ]
  },
  {
   "cell_type": "code",
   "execution_count": 15,
   "id": "b2e160db-5f25-4dce-86a3-a8b4ae867ae5",
   "metadata": {},
   "outputs": [
    {
     "data": {
      "text/plain": [
       "array([[1., 0., 0., 0.],\n",
       "       [0., 0., 1., 0.],\n",
       "       [0., 0., 0., 1.],\n",
       "       ...,\n",
       "       [0., 0., 0., 1.],\n",
       "       [0., 0., 1., 0.],\n",
       "       [1., 0., 0., 0.]], dtype=float32)"
      ]
     },
     "execution_count": 15,
     "metadata": {},
     "output_type": "execute_result"
    }
   ],
   "source": [
    "intent_label_size = len(label_idx)\n",
    "\n",
    "y_train = to_categorical(y_train, num_classes= intent_label_size)\n",
    "y_test = to_categorical(y_test, num_classes= intent_label_size)\n",
    "\n",
    "y_train"
   ]
  },
  {
   "cell_type": "code",
   "execution_count": 16,
   "id": "b130d7dc-8185-4f4d-92f2-88e67f7d3a6b",
   "metadata": {},
   "outputs": [
    {
     "data": {
      "text/plain": [
       "3224"
      ]
     },
     "execution_count": 16,
     "metadata": {},
     "output_type": "execute_result"
    }
   ],
   "source": [
    "vocab_size = len(intent_tokenizer.word_index) + 1\n",
    "vocab_size"
   ]
  },
  {
   "cell_type": "markdown",
   "id": "495dbc4e-37de-4bcc-8d82-66c7cf4667b9",
   "metadata": {},
   "source": [
    "## 의도 분류기 학습"
   ]
  },
  {
   "cell_type": "code",
   "execution_count": 17,
   "id": "8ef4121e-a350-4f14-a153-527f21c59bfc",
   "metadata": {},
   "outputs": [],
   "source": [
    "import pickle as pickle\n",
    "from tensorflow.keras.layers import Embedding, Dense, GRU, LSTM\n",
    "from tensorflow.keras.models import Sequential\n",
    "from keras.models import load_model\n",
    "from keras.callbacks import EarlyStopping, ModelCheckpoint"
   ]
  },
  {
   "cell_type": "code",
   "execution_count": 18,
   "id": "4899f466-8860-451d-89f2-15b6815b2170",
   "metadata": {},
   "outputs": [],
   "source": [
    "import os\n",
    "\n",
    "os.environ[\"TF_CPP_MIN_LOG_LEVEL\"] = \"2\"\n",
    "\n",
    "\n",
    "model = Sequential()\n",
    "model.add(Embedding(vocab_size, 128))\n",
    "model.add(LSTM(128))\n",
    "model.add(Dense(intent_label_size, activation = \"softmax\"))"
   ]
  },
  {
   "cell_type": "code",
   "execution_count": 19,
   "id": "100d4ef8-5307-42ef-8532-b69443a11348",
   "metadata": {},
   "outputs": [],
   "source": [
    "earlystop = EarlyStopping(monitor = \"val_loss\", mode = \"min\", verbose = 1, patience = 4)\n",
    "checkpoint = ModelCheckpoint(\"./model/best_intent_model.h5\", monitor = \"val_acc\", mode = \"max\", verbose = 1, save_best_only = True)"
   ]
  },
  {
   "cell_type": "code",
   "execution_count": 20,
   "id": "ee157403-f7e6-490a-b3eb-62b80a48114f",
   "metadata": {},
   "outputs": [
    {
     "name": "stdout",
     "output_type": "stream",
     "text": [
      "Epoch 1/5\n",
      "6108/6111 [============================>.] - ETA: 0s - loss: 0.0084 - acc: 0.9968\n",
      "Epoch 00001: val_acc improved from -inf to 1.00000, saving model to ./model/best_intent_model.h5\n",
      "6111/6111 [==============================] - 70s 11ms/step - loss: 0.0084 - acc: 0.9968 - val_loss: 2.9777e-05 - val_acc: 1.0000\n",
      "Epoch 2/5\n",
      "6111/6111 [==============================] - ETA: 0s - loss: 5.7363e-06 - acc: 1.0000\n",
      "Epoch 00002: val_acc did not improve from 1.00000\n",
      "6111/6111 [==============================] - 80s 13ms/step - loss: 5.7363e-06 - acc: 1.0000 - val_loss: 2.1723e-07 - val_acc: 1.0000\n",
      "Epoch 3/5\n",
      "6109/6111 [============================>.] - ETA: 0s - loss: 1.1717e-07 - acc: 1.0000\n",
      "Epoch 00003: val_acc did not improve from 1.00000\n",
      "6111/6111 [==============================] - 84s 14ms/step - loss: 1.1713e-07 - acc: 1.0000 - val_loss: 1.5713e-08 - val_acc: 1.0000\n",
      "Epoch 4/5\n",
      "6111/6111 [==============================] - ETA: 0s - loss: 2.8829e-09 - acc: 1.0000\n",
      "Epoch 00004: val_acc did not improve from 1.00000\n",
      "6111/6111 [==============================] - 86s 14ms/step - loss: 2.8829e-09 - acc: 1.0000 - val_loss: 6.8580e-10 - val_acc: 1.0000\n",
      "Epoch 5/5\n",
      "6109/6111 [============================>.] - ETA: 0s - loss: 2.5246e-10 - acc: 1.0000\n",
      "Epoch 00005: val_acc did not improve from 1.00000\n",
      "6111/6111 [==============================] - 96s 16ms/step - loss: 2.5238e-10 - acc: 1.0000 - val_loss: 8.7783e-11 - val_acc: 1.0000\n"
     ]
    }
   ],
   "source": [
    "model.compile(optimizer= \"adam\", loss = \"categorical_crossentropy\", metrics = [\"acc\"])\n",
    "history = model.fit(X_train, y_train, epochs = 5, callbacks = [earlystop, checkpoint], batch_size = 32, validation_split= 0.1)"
   ]
  },
  {
   "cell_type": "code",
   "execution_count": 21,
   "id": "d161e5f9-c437-4ef3-90af-7350d7de0203",
   "metadata": {},
   "outputs": [
    {
     "name": "stdout",
     "output_type": "stream",
     "text": [
      "1698/1698 [==============================] - 18s 11ms/step - loss: 3.1349e-05 - acc: 1.0000\n",
      "test data accuracy: 1.0000\n"
     ]
    }
   ],
   "source": [
    "model = load_model(\"./model/best_intent_model.h5\")\n",
    "\n",
    "print(\"test data accuracy: {0:.4f}\".format(model.evaluate(X_test, y_test)[1]))"
   ]
  },
  {
   "cell_type": "code",
   "execution_count": 22,
   "id": "145ed098-e8bd-442e-8938-28ba8221fb89",
   "metadata": {},
   "outputs": [],
   "source": [
    "with open('./tokenizer/intent_tokenizer.pickle', 'wb') as handle:\n",
    "    pickle.dump(intent_tokenizer, handle, protocol=pickle.HIGHEST_PROTOCOL)"
   ]
  },
  {
   "cell_type": "code",
   "execution_count": 23,
   "id": "228c4d79-caf4-4271-884c-e5a4cf97a1f4",
   "metadata": {},
   "outputs": [],
   "source": [
    "with open('./tokenizer/intent_tokenizer.pickle', 'rb') as handle:\n",
    "    loaded_tokenizer = pickle.load(handle)"
   ]
  },
  {
   "cell_type": "code",
   "execution_count": 24,
   "id": "a4eb6376-e7c4-4a60-9ddc-88dc5eb8356d",
   "metadata": {},
   "outputs": [],
   "source": [
    "def predict(test_sentence):\n",
    "    with open('./tokenizer/intent_tokenizer.pickle', 'rb') as handle:\n",
    "        loaded_tokenizer = pickle.load(handle)\n",
    "    \n",
    "    test_sentence = mecab.morphs(test_sentence)\n",
    "    test_sentence_encoding = loaded_tokenizer.texts_to_sequences([test_sentence])\n",
    "    test_sentence_padded = pad_sequences(test_sentence_encoding, maxlen = max_len)\n",
    "    y_predicted = model.predict(test_sentence_padded)\n",
    "    y_predicted = np.argmax(y_predicted, axis = -1)\n",
    "    \n",
    "    return label_idx[y_predicted[0]]"
   ]
  },
  {
   "cell_type": "code",
   "execution_count": 40,
   "id": "51794886-272b-4790-8cfc-c5fcb263d477",
   "metadata": {},
   "outputs": [
    {
     "data": {
      "text/plain": [
       "'가격'"
      ]
     },
     "execution_count": 40,
     "metadata": {},
     "output_type": "execute_result"
    }
   ],
   "source": [
    "predict(\"삼전 가격 알려줘\")"
   ]
  },
  {
   "cell_type": "code",
   "execution_count": 44,
   "id": "e8ee9a1a-55b5-4f7b-96f9-d472ddc8ad05",
   "metadata": {},
   "outputs": [
    {
     "name": "stdout",
     "output_type": "stream",
     "text": [
      "1. '삼성전자랑 유사한 종목 알려줘' | 실제 의도: 유사기업 | 모델 예측 의도: 유사기업\n",
      "2. '유사종목 삼성전자' | 실제 의도: 유사기업 | 모델 예측 의도: 유사기업\n",
      "3. '삼전이랑 유사한 주식 알려줘' | 실제 의도: 유사기업 | 모델 예측 의도: 유사기업\n",
      "4. '삼전이랑 비슷한 주식 알려줘' | 실제 의도: 유사기업 | 모델 예측 의도: 유사기업\n",
      "5. '삼전이랑 유사한 거 알려줘' | 실제 의도: 유사기업 | 모델 예측 의도: 유사기업\n",
      "6. '반도체 관련 기업 알려줘' | 실제 의도: 키워드 | 모델 예측 의도: 키워드\n",
      "7. '키워드 반도체' | 실제 의도: 키워드 | 모델 예측 의도: 키워드\n",
      "8. '삼성전자 분석' | 실제 의도: 사업개요 | 모델 예측 의도: 사업개요\n",
      "9. '삼성전자 분석해봐라' | 실제 의도: 사업개요 | 모델 예측 의도: 사업개요\n",
      "10. '삼성전자 요약' | 실제 의도: 사업개요 | 모델 예측 의도: 사업개요\n",
      "11. '치킨 관련주 알려줘' | 실제 의도: 키워드 | 모델 예측 의도: 키워드\n",
      "12. 'GS리테일 개요' | 실제 의도: 사업개요 | 모델 예측 의도: 사업개요\n",
      "13. 'GS리테일 가격 알려줘' | 실제 의도: 가격 | 모델 예측 의도: 가격\n",
      "14. 'GS리테일 종가가 궁금해' | 실제 의도: 가격 | 모델 예측 의도: 가격\n",
      "15. 'GS리테일 변화율이 너무 너무 궁금해' | 실제 의도: 가격 | 모델 예측 의도: 가격\n"
     ]
    }
   ],
   "source": [
    "print(\"1. '삼성전자랑 유사한 종목 알려줘' | 실제 의도: 유사기업 | 모델 예측 의도: {0}\".format( predict('삼성전자랑 유사한 종목 알려줘')))\n",
    "print(\"2. '유사종목 삼성전자' | 실제 의도: 유사기업 | 모델 예측 의도: {0}\".format(predict('유사종목 삼성전자')))\n",
    "print(\"3. '삼전이랑 유사한 주식 알려줘' | 실제 의도: 유사기업 | 모델 예측 의도: {0}\".format(predict('삼전이랑 유사한 주식 알려줘')))\n",
    "print(\"4. '삼전이랑 비슷한 주식 알려줘' | 실제 의도: 유사기업 | 모델 예측 의도: {0}\".format(predict('삼전이랑 비슷한 주식 알려줘')))\n",
    "print(\"5. '삼전이랑 유사한 거 알려줘' | 실제 의도: 유사기업 | 모델 예측 의도: {0}\".format(predict('삼전이랑 유사한 거 알려줘')))\n",
    "print(\"6. '반도체 관련 기업 알려줘' | 실제 의도: 키워드 | 모델 예측 의도: {0}\".format(predict('반도체 관련 기업 알려줘')))\n",
    "print(\"7. '키워드 반도체' | 실제 의도: 키워드 | 모델 예측 의도: {0}\".format(predict('키워드 반도체')))\n",
    "print(\"8. '삼성전자 분석' | 실제 의도: 사업개요 | 모델 예측 의도: {0}\".format(predict('삼성전자 분석')))\n",
    "print(\"9. '삼성전자 분석해봐라' | 실제 의도: 사업개요 | 모델 예측 의도: {0}\".format(predict('삼성전자 분석해봐라')))\n",
    "print(\"10. '삼성전자 요약' | 실제 의도: 사업개요 | 모델 예측 의도: {0}\".format(predict('삼성전자 요약')))\n",
    "print(\"11. '치킨 관련주 알려줘' | 실제 의도: 키워드 | 모델 예측 의도: {0}\".format(predict('치킨 테마주 알려줘')))\n",
    "print(\"12. 'GS리테일 개요' | 실제 의도: 사업개요 | 모델 예측 의도: {0}\".format(predict('GS리테일 개요')))\n",
    "print(\"13. 'GS리테일 가격 알려줘' | 실제 의도: 가격 | 모델 예측 의도: {0}\".format(predict('GS리테일 가격 알려줘')))\n",
    "print(\"14. 'GS리테일 종가가 궁금해' | 실제 의도: 가격 | 모델 예측 의도: {0}\".format(predict('GS리테일 종가가 궁금해'))) \n",
    "print(\"15. 'GS리테일 변화율이 너무 너무 궁금해' | 실제 의도: 가격 | 모델 예측 의도: {0}\".format(predict('GS리테일 변화율이 너무 너무 궁금해')))\n"
   ]
  },
  {
   "cell_type": "code",
   "execution_count": null,
   "id": "763abbcb-773c-4257-a75f-25a15ac94ac8",
   "metadata": {},
   "outputs": [],
   "source": []
  }
 ],
 "metadata": {
  "kernelspec": {
   "display_name": "Python 3 (ipykernel)",
   "language": "python",
   "name": "python3"
  },
  "language_info": {
   "codemirror_mode": {
    "name": "ipython",
    "version": 3
   },
   "file_extension": ".py",
   "mimetype": "text/x-python",
   "name": "python",
   "nbconvert_exporter": "python",
   "pygments_lexer": "ipython3",
   "version": "3.7.6"
  }
 },
 "nbformat": 4,
 "nbformat_minor": 5
}
